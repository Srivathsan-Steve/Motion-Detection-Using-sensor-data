{
 "cells": [
  {
   "cell_type": "markdown",
   "metadata": {},
   "source": [
    "# Importing Libraries"
   ]
  },
  {
   "cell_type": "code",
   "execution_count": 2,
   "metadata": {},
   "outputs": [],
   "source": [
    "import numpy as np\n",
    "import pandas as pd\n",
    "import seaborn as sns\n",
    "import matplotlib.pyplot as plt"
   ]
  },
  {
   "cell_type": "code",
   "execution_count": 3,
   "metadata": {},
   "outputs": [
    {
     "data": {
      "text/html": [
       "<div>\n",
       "<style scoped>\n",
       "    .dataframe tbody tr th:only-of-type {\n",
       "        vertical-align: middle;\n",
       "    }\n",
       "\n",
       "    .dataframe tbody tr th {\n",
       "        vertical-align: top;\n",
       "    }\n",
       "\n",
       "    .dataframe thead th {\n",
       "        text-align: right;\n",
       "    }\n",
       "</style>\n",
       "<table border=\"1\" class=\"dataframe\">\n",
       "  <thead>\n",
       "    <tr style=\"text-align: right;\">\n",
       "      <th></th>\n",
       "      <th>ts</th>\n",
       "      <th>device</th>\n",
       "      <th>co</th>\n",
       "      <th>humidity</th>\n",
       "      <th>light</th>\n",
       "      <th>lpg</th>\n",
       "      <th>motion</th>\n",
       "      <th>smoke</th>\n",
       "      <th>temp</th>\n",
       "    </tr>\n",
       "  </thead>\n",
       "  <tbody>\n",
       "    <tr>\n",
       "      <th>0</th>\n",
       "      <td>1.594512e+09</td>\n",
       "      <td>b8:27:eb:bf:9d:51</td>\n",
       "      <td>0.004956</td>\n",
       "      <td>51.000000</td>\n",
       "      <td>False</td>\n",
       "      <td>0.007651</td>\n",
       "      <td>False</td>\n",
       "      <td>0.020411</td>\n",
       "      <td>22.700000</td>\n",
       "    </tr>\n",
       "    <tr>\n",
       "      <th>1</th>\n",
       "      <td>1.594512e+09</td>\n",
       "      <td>00:0f:00:70:91:0a</td>\n",
       "      <td>0.002840</td>\n",
       "      <td>76.000000</td>\n",
       "      <td>False</td>\n",
       "      <td>0.005114</td>\n",
       "      <td>False</td>\n",
       "      <td>0.013275</td>\n",
       "      <td>19.700001</td>\n",
       "    </tr>\n",
       "    <tr>\n",
       "      <th>2</th>\n",
       "      <td>1.594512e+09</td>\n",
       "      <td>b8:27:eb:bf:9d:51</td>\n",
       "      <td>0.004976</td>\n",
       "      <td>50.900000</td>\n",
       "      <td>False</td>\n",
       "      <td>0.007673</td>\n",
       "      <td>False</td>\n",
       "      <td>0.020475</td>\n",
       "      <td>22.600000</td>\n",
       "    </tr>\n",
       "    <tr>\n",
       "      <th>3</th>\n",
       "      <td>1.594512e+09</td>\n",
       "      <td>1c:bf:ce:15:ec:4d</td>\n",
       "      <td>0.004403</td>\n",
       "      <td>76.800003</td>\n",
       "      <td>True</td>\n",
       "      <td>0.007023</td>\n",
       "      <td>False</td>\n",
       "      <td>0.018628</td>\n",
       "      <td>27.000000</td>\n",
       "    </tr>\n",
       "    <tr>\n",
       "      <th>4</th>\n",
       "      <td>1.594512e+09</td>\n",
       "      <td>b8:27:eb:bf:9d:51</td>\n",
       "      <td>0.004967</td>\n",
       "      <td>50.900000</td>\n",
       "      <td>False</td>\n",
       "      <td>0.007664</td>\n",
       "      <td>False</td>\n",
       "      <td>0.020448</td>\n",
       "      <td>22.600000</td>\n",
       "    </tr>\n",
       "    <tr>\n",
       "      <th>5</th>\n",
       "      <td>1.594512e+09</td>\n",
       "      <td>1c:bf:ce:15:ec:4d</td>\n",
       "      <td>0.004391</td>\n",
       "      <td>77.900002</td>\n",
       "      <td>True</td>\n",
       "      <td>0.007009</td>\n",
       "      <td>False</td>\n",
       "      <td>0.018589</td>\n",
       "      <td>27.000000</td>\n",
       "    </tr>\n",
       "    <tr>\n",
       "      <th>6</th>\n",
       "      <td>1.594512e+09</td>\n",
       "      <td>b8:27:eb:bf:9d:51</td>\n",
       "      <td>0.004976</td>\n",
       "      <td>50.900000</td>\n",
       "      <td>False</td>\n",
       "      <td>0.007673</td>\n",
       "      <td>False</td>\n",
       "      <td>0.020475</td>\n",
       "      <td>22.600000</td>\n",
       "    </tr>\n",
       "    <tr>\n",
       "      <th>7</th>\n",
       "      <td>1.594512e+09</td>\n",
       "      <td>00:0f:00:70:91:0a</td>\n",
       "      <td>0.002938</td>\n",
       "      <td>76.000000</td>\n",
       "      <td>False</td>\n",
       "      <td>0.005241</td>\n",
       "      <td>False</td>\n",
       "      <td>0.013628</td>\n",
       "      <td>19.700001</td>\n",
       "    </tr>\n",
       "    <tr>\n",
       "      <th>8</th>\n",
       "      <td>1.594512e+09</td>\n",
       "      <td>1c:bf:ce:15:ec:4d</td>\n",
       "      <td>0.004345</td>\n",
       "      <td>77.900002</td>\n",
       "      <td>True</td>\n",
       "      <td>0.006957</td>\n",
       "      <td>False</td>\n",
       "      <td>0.018440</td>\n",
       "      <td>27.000000</td>\n",
       "    </tr>\n",
       "    <tr>\n",
       "      <th>9</th>\n",
       "      <td>1.594512e+09</td>\n",
       "      <td>b8:27:eb:bf:9d:51</td>\n",
       "      <td>0.004970</td>\n",
       "      <td>50.900000</td>\n",
       "      <td>False</td>\n",
       "      <td>0.007667</td>\n",
       "      <td>False</td>\n",
       "      <td>0.020457</td>\n",
       "      <td>22.600000</td>\n",
       "    </tr>\n",
       "  </tbody>\n",
       "</table>\n",
       "</div>"
      ],
      "text/plain": [
       "             ts             device        co   humidity  light       lpg  \\\n",
       "0  1.594512e+09  b8:27:eb:bf:9d:51  0.004956  51.000000  False  0.007651   \n",
       "1  1.594512e+09  00:0f:00:70:91:0a  0.002840  76.000000  False  0.005114   \n",
       "2  1.594512e+09  b8:27:eb:bf:9d:51  0.004976  50.900000  False  0.007673   \n",
       "3  1.594512e+09  1c:bf:ce:15:ec:4d  0.004403  76.800003   True  0.007023   \n",
       "4  1.594512e+09  b8:27:eb:bf:9d:51  0.004967  50.900000  False  0.007664   \n",
       "5  1.594512e+09  1c:bf:ce:15:ec:4d  0.004391  77.900002   True  0.007009   \n",
       "6  1.594512e+09  b8:27:eb:bf:9d:51  0.004976  50.900000  False  0.007673   \n",
       "7  1.594512e+09  00:0f:00:70:91:0a  0.002938  76.000000  False  0.005241   \n",
       "8  1.594512e+09  1c:bf:ce:15:ec:4d  0.004345  77.900002   True  0.006957   \n",
       "9  1.594512e+09  b8:27:eb:bf:9d:51  0.004970  50.900000  False  0.007667   \n",
       "\n",
       "   motion     smoke       temp  \n",
       "0   False  0.020411  22.700000  \n",
       "1   False  0.013275  19.700001  \n",
       "2   False  0.020475  22.600000  \n",
       "3   False  0.018628  27.000000  \n",
       "4   False  0.020448  22.600000  \n",
       "5   False  0.018589  27.000000  \n",
       "6   False  0.020475  22.600000  \n",
       "7   False  0.013628  19.700001  \n",
       "8   False  0.018440  27.000000  \n",
       "9   False  0.020457  22.600000  "
      ]
     },
     "execution_count": 3,
     "metadata": {},
     "output_type": "execute_result"
    }
   ],
   "source": [
    "df=pd.read_csv('E:\\DataSets\\IOT Sensor Data\\Motion Detection.csv') #loading Dataset\n",
    "df.head(10)"
   ]
  },
  {
   "cell_type": "markdown",
   "metadata": {},
   "source": [
    "# Basic Insights"
   ]
  },
  {
   "cell_type": "code",
   "execution_count": 4,
   "metadata": {},
   "outputs": [
    {
     "name": "stdout",
     "output_type": "stream",
     "text": [
      "Dimentions of the Dataset (405184, 9)\n"
     ]
    }
   ],
   "source": [
    "print(\"Dimentions of the Dataset\",df.shape)"
   ]
  },
  {
   "cell_type": "code",
   "execution_count": 5,
   "metadata": {},
   "outputs": [
    {
     "data": {
      "text/plain": [
       "ts          float64\n",
       "device       object\n",
       "co          float64\n",
       "humidity    float64\n",
       "light          bool\n",
       "lpg         float64\n",
       "motion         bool\n",
       "smoke       float64\n",
       "temp        float64\n",
       "dtype: object"
      ]
     },
     "execution_count": 5,
     "metadata": {},
     "output_type": "execute_result"
    }
   ],
   "source": [
    "df.dtypes"
   ]
  },
  {
   "cell_type": "code",
   "execution_count": 6,
   "metadata": {},
   "outputs": [
    {
     "data": {
      "text/plain": [
       "ts          0\n",
       "device      0\n",
       "co          0\n",
       "humidity    0\n",
       "light       0\n",
       "lpg         0\n",
       "motion      0\n",
       "smoke       0\n",
       "temp        0\n",
       "dtype: int64"
      ]
     },
     "execution_count": 6,
     "metadata": {},
     "output_type": "execute_result"
    }
   ],
   "source": [
    "df.isnull().sum()"
   ]
  },
  {
   "cell_type": "markdown",
   "metadata": {},
   "source": [
    "<br>\n",
    "<font size=3 color=green>\n",
    "<b>Looking at the above results, we come to know the following details:</b><br>\n",
    "    <ul>\n",
    "         <li>There are 405184 rows, and 9 columns in the given dataset.<br>\n",
    "         <li>There are 6 columns of type float64 (ts,co,humidity,lpg,smoke,temperature), 2 columns containing boolean values(light, motion) and 1 column of categorical type(device).<br>\n",
    "         <li>The device column contains the device Id of the sensors in which the readings are recorded.<br>\n",
    "         <li>Out of the 9 columns, co, humidity, lpg, smoke, temp and light are the 6 feature variables and motion is the target variable.<br>\n",
    "         <li>Also there aren't any null values in the dataset, which means the dataset is clean and we can proceed with further exploration.<br>\n",
    "     </ul>\n",
    "</font>\n",
    "<br>"
   ]
  },
  {
   "cell_type": "markdown",
   "metadata": {},
   "source": [
    "# Exploratory Data Analysis"
   ]
  },
  {
   "cell_type": "code",
   "execution_count": 7,
   "metadata": {},
   "outputs": [
    {
     "name": "stdout",
     "output_type": "stream",
     "text": [
      "Cases Detected with Motion\n",
      "False    404702\n",
      "True        482\n",
      "Name: motion, dtype: int64\n"
     ]
    }
   ],
   "source": [
    "print(\"Cases Detected with Motion\")\n",
    "print(df['motion'].value_counts())"
   ]
  },
  {
   "cell_type": "code",
   "execution_count": 8,
   "metadata": {},
   "outputs": [
    {
     "data": {
      "text/plain": [
       "<matplotlib.axes._subplots.AxesSubplot at 0x25c48bf0108>"
      ]
     },
     "execution_count": 8,
     "metadata": {},
     "output_type": "execute_result"
    },
    {
     "data": {
      "image/png": "[encoded data removed]",
      "text/plain": [
       "<Figure size 432x288 with 1 Axes>"
      ]
     },
     "metadata": {},
     "output_type": "display_data"
    }
   ],
   "source": [
    "df.groupby('motion').size().plot(kind='pie',autopct='%1.2f%%',title=\"Motion Detected\")"
   ]
  },
  {
   "cell_type": "code",
   "execution_count": 9,
   "metadata": {},
   "outputs": [
    {
     "name": "stdout",
     "output_type": "stream",
     "text": [
      "False    292657\n",
      "True     112527\n",
      "Name: light, dtype: int64\n"
     ]
    },
    {
     "data": {
      "image/png": "[encoded data removed]",
      "text/plain": [
       "<Figure size 432x288 with 1 Axes>"
      ]
     },
     "metadata": {},
     "output_type": "display_data"
    }
   ],
   "source": [
    "df.groupby('light').size().plot(kind='pie',autopct='%1.2f%%',title=\"Light Detected\")\n",
    "print(df['light'].value_counts())"
   ]
  },
  {
   "cell_type": "code",
   "execution_count": 10,
   "metadata": {},
   "outputs": [
    {
     "name": "stdout",
     "output_type": "stream",
     "text": [
      "Contribution by each Device\n",
      "\n",
      "b8:27:eb:bf:9d:51    187451\n",
      "00:0f:00:70:91:0a    111815\n",
      "1c:bf:ce:15:ec:4d    105918\n",
      "Name: device, dtype: int64\n"
     ]
    }
   ],
   "source": [
    "print(\"Contribution by each Device\\n\")\n",
    "print(df['device'].value_counts())"
   ]
  },
  {
   "cell_type": "code",
   "execution_count": 11,
   "metadata": {},
   "outputs": [
    {
     "data": {
      "text/plain": [
       "<matplotlib.axes._subplots.AxesSubplot at 0x25c49385e48>"
      ]
     },
     "execution_count": 11,
     "metadata": {},
     "output_type": "execute_result"
    },
    {
     "data": {
      "image/png": "[encoded data removed]",
      "text/plain": [
       "<Figure size 432x288 with 1 Axes>"
      ]
     },
     "metadata": {},
     "output_type": "display_data"
    }
   ],
   "source": [
    "df.groupby('device').size().plot(kind='pie',autopct='%1.2f%%',title=\"Contribution by each Device\")"
   ]
  },
  {
   "cell_type": "code",
   "execution_count": 12,
   "metadata": {},
   "outputs": [
    {
     "data": {
      "text/plain": [
       "ts          datetime64[ns]\n",
       "device              object\n",
       "co                 float64\n",
       "humidity           float64\n",
       "light                 bool\n",
       "lpg                float64\n",
       "motion                bool\n",
       "smoke              float64\n",
       "temp               float64\n",
       "dtype: object"
      ]
     },
     "execution_count": 12,
     "metadata": {},
     "output_type": "execute_result"
    }
   ],
   "source": [
    "#Converting TimeStamp Value to proper Datatype\n",
    "df['ts']=pd.to_datetime(df['ts'],unit='s')\n",
    "df.dtypes"
   ]
  },
  {
   "cell_type": "code",
   "execution_count": 13,
   "metadata": {},
   "outputs": [
    {
     "data": {
      "text/html": [
       "<div>\n",
       "<style scoped>\n",
       "    .dataframe tbody tr th:only-of-type {\n",
       "        vertical-align: middle;\n",
       "    }\n",
       "\n",
       "    .dataframe tbody tr th {\n",
       "        vertical-align: top;\n",
       "    }\n",
       "\n",
       "    .dataframe thead th {\n",
       "        text-align: right;\n",
       "    }\n",
       "</style>\n",
       "<table border=\"1\" class=\"dataframe\">\n",
       "  <thead>\n",
       "    <tr style=\"text-align: right;\">\n",
       "      <th></th>\n",
       "      <th>ts</th>\n",
       "      <th>device</th>\n",
       "      <th>co</th>\n",
       "      <th>humidity</th>\n",
       "      <th>light</th>\n",
       "      <th>lpg</th>\n",
       "      <th>motion</th>\n",
       "      <th>smoke</th>\n",
       "      <th>temp</th>\n",
       "    </tr>\n",
       "  </thead>\n",
       "  <tbody>\n",
       "    <tr>\n",
       "      <th>0</th>\n",
       "      <td>2020-07-12 00:01:34.385974407</td>\n",
       "      <td>2</td>\n",
       "      <td>0.004956</td>\n",
       "      <td>51.000000</td>\n",
       "      <td>False</td>\n",
       "      <td>0.007651</td>\n",
       "      <td>False</td>\n",
       "      <td>0.020411</td>\n",
       "      <td>22.700000</td>\n",
       "    </tr>\n",
       "    <tr>\n",
       "      <th>1</th>\n",
       "      <td>2020-07-12 00:01:34.735567570</td>\n",
       "      <td>0</td>\n",
       "      <td>0.002840</td>\n",
       "      <td>76.000000</td>\n",
       "      <td>False</td>\n",
       "      <td>0.005114</td>\n",
       "      <td>False</td>\n",
       "      <td>0.013275</td>\n",
       "      <td>19.700001</td>\n",
       "    </tr>\n",
       "    <tr>\n",
       "      <th>2</th>\n",
       "      <td>2020-07-12 00:01:38.073572636</td>\n",
       "      <td>2</td>\n",
       "      <td>0.004976</td>\n",
       "      <td>50.900000</td>\n",
       "      <td>False</td>\n",
       "      <td>0.007673</td>\n",
       "      <td>False</td>\n",
       "      <td>0.020475</td>\n",
       "      <td>22.600000</td>\n",
       "    </tr>\n",
       "    <tr>\n",
       "      <th>3</th>\n",
       "      <td>2020-07-12 00:01:39.589146137</td>\n",
       "      <td>1</td>\n",
       "      <td>0.004403</td>\n",
       "      <td>76.800003</td>\n",
       "      <td>True</td>\n",
       "      <td>0.007023</td>\n",
       "      <td>False</td>\n",
       "      <td>0.018628</td>\n",
       "      <td>27.000000</td>\n",
       "    </tr>\n",
       "    <tr>\n",
       "      <th>4</th>\n",
       "      <td>2020-07-12 00:01:41.761234999</td>\n",
       "      <td>2</td>\n",
       "      <td>0.004967</td>\n",
       "      <td>50.900000</td>\n",
       "      <td>False</td>\n",
       "      <td>0.007664</td>\n",
       "      <td>False</td>\n",
       "      <td>0.020448</td>\n",
       "      <td>22.600000</td>\n",
       "    </tr>\n",
       "  </tbody>\n",
       "</table>\n",
       "</div>"
      ],
      "text/plain": [
       "                             ts  device        co   humidity  light       lpg  \\\n",
       "0 2020-07-12 00:01:34.385974407       2  0.004956  51.000000  False  0.007651   \n",
       "1 2020-07-12 00:01:34.735567570       0  0.002840  76.000000  False  0.005114   \n",
       "2 2020-07-12 00:01:38.073572636       2  0.004976  50.900000  False  0.007673   \n",
       "3 2020-07-12 00:01:39.589146137       1  0.004403  76.800003   True  0.007023   \n",
       "4 2020-07-12 00:01:41.761234999       2  0.004967  50.900000  False  0.007664   \n",
       "\n",
       "   motion     smoke       temp  \n",
       "0   False  0.020411  22.700000  \n",
       "1   False  0.013275  19.700001  \n",
       "2   False  0.020475  22.600000  \n",
       "3   False  0.018628  27.000000  \n",
       "4   False  0.020448  22.600000  "
      ]
     },
     "execution_count": 13,
     "metadata": {},
     "output_type": "execute_result"
    }
   ],
   "source": [
    "#Encoding the Device Names\n",
    "from sklearn.preprocessing import LabelEncoder\n",
    "labelencoder=LabelEncoder()\n",
    "df['device'] = labelencoder.fit_transform(df['device'])\n",
    "df.head()"
   ]
  },
  {
   "cell_type": "code",
   "execution_count": 14,
   "metadata": {},
   "outputs": [
    {
     "data": {
      "image/png": "[encoded data removed]",
      "text/plain": [
       "<Figure size 432x288 with 1 Axes>"
      ]
     },
     "metadata": {
      "needs_background": "light"
     },
     "output_type": "display_data"
    },
    {
     "data": {
      "image/png": "[encoded data removed]",
      "text/plain": [
       "<Figure size 432x288 with 1 Axes>"
      ]
     },
     "metadata": {
      "needs_background": "light"
     },
     "output_type": "display_data"
    },
    {
     "data": {
      "image/png": "[encoded data removed]",
      "text/plain": [
       "<Figure size 432x288 with 1 Axes>"
      ]
     },
     "metadata": {
      "needs_background": "light"
     },
     "output_type": "display_data"
    }
   ],
   "source": [
    "#Extracting DataFrame Corresponding to each Device plotting the readings\n",
    "device_df=[]\n",
    "for i in range(0,3):\n",
    "    device_df.append(df[df['device']==i])\n",
    "    ax=plt.gca()\n",
    "    device_df[i].plot(kind='line',x='ts',y='smoke',ax=ax,title='Device '+str(i))\n",
    "    device_df[i].plot(kind='line',x='ts',y='co',ax=ax)\n",
    "    device_df[i].plot(kind='line',x='ts',y='lpg',ax=ax)\n",
    "    plt.show()"
   ]
  },
  {
   "cell_type": "code",
   "execution_count": 15,
   "metadata": {},
   "outputs": [
    {
     "data": {
      "image/png": "[encoded data removed]",
      "text/plain": [
       "<Figure size 432x288 with 1 Axes>"
      ]
     },
     "metadata": {},
     "output_type": "display_data"
    },
    {
     "name": "stdout",
     "output_type": "stream",
     "text": [
      "False    111812\n",
      "True          3\n",
      "Name: motion, dtype: int64\n"
     ]
    },
    {
     "data": {
      "image/png": "[encoded data removed]",
      "text/plain": [
       "<Figure size 432x288 with 1 Axes>"
      ]
     },
     "metadata": {},
     "output_type": "display_data"
    },
    {
     "name": "stdout",
     "output_type": "stream",
     "text": [
      "False    105583\n",
      "True        335\n",
      "Name: motion, dtype: int64\n"
     ]
    },
    {
     "data": {
      "image/png": "[encoded data removed]",
      "text/plain": [
       "<Figure size 432x288 with 1 Axes>"
      ]
     },
     "metadata": {},
     "output_type": "display_data"
    },
    {
     "name": "stdout",
     "output_type": "stream",
     "text": [
      "False    187307\n",
      "True        144\n",
      "Name: motion, dtype: int64\n"
     ]
    }
   ],
   "source": [
    "#Motion Detected by each Sensor\n",
    "for i,device in enumerate(device_df):\n",
    "    device.groupby('motion').size().plot(kind='pie',autopct='%1.2f%%',title=\"Device \"+str(i))\n",
    "    plt.show()\n",
    "    print(device['motion'].value_counts())"
   ]
  },
  {
   "cell_type": "code",
   "execution_count": 16,
   "metadata": {},
   "outputs": [
    {
     "name": "stdout",
     "output_type": "stream",
     "text": [
      "Light Detected in Each Device\n"
     ]
    },
    {
     "data": {
      "image/png": "[encoded data removed]",
      "text/plain": [
       "<Figure size 432x288 with 1 Axes>"
      ]
     },
     "metadata": {},
     "output_type": "display_data"
    },
    {
     "name": "stdout",
     "output_type": "stream",
     "text": [
      "False    108207\n",
      "True       3608\n",
      "Name: light, dtype: int64\n"
     ]
    },
    {
     "data": {
      "image/png": "[encoded data removed]",
      "text/plain": [
       "<Figure size 432x288 with 1 Axes>"
      ]
     },
     "metadata": {},
     "output_type": "display_data"
    },
    {
     "name": "stdout",
     "output_type": "stream",
     "text": [
      "True    105918\n",
      "Name: light, dtype: int64\n"
     ]
    },
    {
     "data": {
      "image/png": "[encoded data removed]",
      "text/plain": [
       "<Figure size 432x288 with 1 Axes>"
      ]
     },
     "metadata": {},
     "output_type": "display_data"
    },
    {
     "name": "stdout",
     "output_type": "stream",
     "text": [
      "False    184450\n",
      "True       3001\n",
      "Name: light, dtype: int64\n"
     ]
    }
   ],
   "source": [
    "#Light Detected by each Sensor\n",
    "print(\"Light Detected in Each Device\")\n",
    "for i,device in enumerate(device_df):\n",
    "    device.groupby('light').size().plot(kind='pie',autopct='%1.2f%%',title=\"Device \"+str(i))\n",
    "    plt.show()\n",
    "    print(device['light'].value_counts())"
   ]
  },
  {
   "cell_type": "code",
   "execution_count": 17,
   "metadata": {},
   "outputs": [
    {
     "data": {
      "image/png": "[encoded data removed]",
      "text/plain": [
       "<Figure size 432x288 with 1 Axes>"
      ]
     },
     "metadata": {
      "needs_background": "light"
     },
     "output_type": "display_data"
    },
    {
     "data": {
      "image/png": "[encoded data removed]",
      "text/plain": [
       "<Figure size 432x288 with 1 Axes>"
      ]
     },
     "metadata": {
      "needs_background": "light"
     },
     "output_type": "display_data"
    },
    {
     "data": {
      "image/png": "[encoded data removed]",
      "text/plain": [
       "<Figure size 432x288 with 1 Axes>"
      ]
     },
     "metadata": {
      "needs_background": "light"
     },
     "output_type": "display_data"
    }
   ],
   "source": [
    "#Humidity and Temperature Values\n",
    "for i,device in enumerate(device_df):\n",
    "    ax=plt.gca()\n",
    "    device.plot(kind='line',x='ts',y='humidity',ax=ax,title='Device '+str(i))\n",
    "    device.plot(kind='line',x='ts',y='temp',ax=ax)\n",
    "    plt.show()"
   ]
  },
  {
   "cell_type": "code",
   "execution_count": 18,
   "metadata": {},
   "outputs": [
    {
     "data": {
      "text/html": [
       "<div>\n",
       "<style scoped>\n",
       "    .dataframe tbody tr th:only-of-type {\n",
       "        vertical-align: middle;\n",
       "    }\n",
       "\n",
       "    .dataframe tbody tr th {\n",
       "        vertical-align: top;\n",
       "    }\n",
       "\n",
       "    .dataframe thead th {\n",
       "        text-align: right;\n",
       "    }\n",
       "</style>\n",
       "<table border=\"1\" class=\"dataframe\">\n",
       "  <thead>\n",
       "    <tr style=\"text-align: right;\">\n",
       "      <th></th>\n",
       "      <th>device</th>\n",
       "      <th>co</th>\n",
       "      <th>humidity</th>\n",
       "      <th>light</th>\n",
       "      <th>lpg</th>\n",
       "      <th>motion</th>\n",
       "      <th>smoke</th>\n",
       "      <th>temp</th>\n",
       "    </tr>\n",
       "  </thead>\n",
       "  <tbody>\n",
       "    <tr>\n",
       "      <th>device</th>\n",
       "      <td>1.000000</td>\n",
       "      <td>0.698928</td>\n",
       "      <td>-0.902674</td>\n",
       "      <td>-0.141967</td>\n",
       "      <td>0.714322</td>\n",
       "      <td>0.004355</td>\n",
       "      <td>0.712108</td>\n",
       "      <td>0.341314</td>\n",
       "    </tr>\n",
       "    <tr>\n",
       "      <th>co</th>\n",
       "      <td>0.698928</td>\n",
       "      <td>1.000000</td>\n",
       "      <td>-0.656750</td>\n",
       "      <td>-0.230197</td>\n",
       "      <td>0.997331</td>\n",
       "      <td>-0.000706</td>\n",
       "      <td>0.998192</td>\n",
       "      <td>0.110905</td>\n",
       "    </tr>\n",
       "    <tr>\n",
       "      <th>humidity</th>\n",
       "      <td>-0.902674</td>\n",
       "      <td>-0.656750</td>\n",
       "      <td>1.000000</td>\n",
       "      <td>0.079703</td>\n",
       "      <td>-0.672113</td>\n",
       "      <td>-0.009826</td>\n",
       "      <td>-0.669863</td>\n",
       "      <td>-0.410427</td>\n",
       "    </tr>\n",
       "    <tr>\n",
       "      <th>light</th>\n",
       "      <td>-0.141967</td>\n",
       "      <td>-0.230197</td>\n",
       "      <td>0.079703</td>\n",
       "      <td>1.000000</td>\n",
       "      <td>-0.208926</td>\n",
       "      <td>0.033594</td>\n",
       "      <td>-0.212969</td>\n",
       "      <td>0.747485</td>\n",
       "    </tr>\n",
       "    <tr>\n",
       "      <th>lpg</th>\n",
       "      <td>0.714322</td>\n",
       "      <td>0.997331</td>\n",
       "      <td>-0.672113</td>\n",
       "      <td>-0.208926</td>\n",
       "      <td>1.000000</td>\n",
       "      <td>0.000232</td>\n",
       "      <td>0.999916</td>\n",
       "      <td>0.136396</td>\n",
       "    </tr>\n",
       "    <tr>\n",
       "      <th>motion</th>\n",
       "      <td>0.004355</td>\n",
       "      <td>-0.000706</td>\n",
       "      <td>-0.009826</td>\n",
       "      <td>0.033594</td>\n",
       "      <td>0.000232</td>\n",
       "      <td>1.000000</td>\n",
       "      <td>0.000062</td>\n",
       "      <td>0.037649</td>\n",
       "    </tr>\n",
       "    <tr>\n",
       "      <th>smoke</th>\n",
       "      <td>0.712108</td>\n",
       "      <td>0.998192</td>\n",
       "      <td>-0.669863</td>\n",
       "      <td>-0.212969</td>\n",
       "      <td>0.999916</td>\n",
       "      <td>0.000062</td>\n",
       "      <td>1.000000</td>\n",
       "      <td>0.131891</td>\n",
       "    </tr>\n",
       "    <tr>\n",
       "      <th>temp</th>\n",
       "      <td>0.341314</td>\n",
       "      <td>0.110905</td>\n",
       "      <td>-0.410427</td>\n",
       "      <td>0.747485</td>\n",
       "      <td>0.136396</td>\n",
       "      <td>0.037649</td>\n",
       "      <td>0.131891</td>\n",
       "      <td>1.000000</td>\n",
       "    </tr>\n",
       "  </tbody>\n",
       "</table>\n",
       "</div>"
      ],
      "text/plain": [
       "            device        co  humidity     light       lpg    motion  \\\n",
       "device    1.000000  0.698928 -0.902674 -0.141967  0.714322  0.004355   \n",
       "co        0.698928  1.000000 -0.656750 -0.230197  0.997331 -0.000706   \n",
       "humidity -0.902674 -0.656750  1.000000  0.079703 -0.672113 -0.009826   \n",
       "light    -0.141967 -0.230197  0.079703  1.000000 -0.208926  0.033594   \n",
       "lpg       0.714322  0.997331 -0.672113 -0.208926  1.000000  0.000232   \n",
       "motion    0.004355 -0.000706 -0.009826  0.033594  0.000232  1.000000   \n",
       "smoke     0.712108  0.998192 -0.669863 -0.212969  0.999916  0.000062   \n",
       "temp      0.341314  0.110905 -0.410427  0.747485  0.136396  0.037649   \n",
       "\n",
       "             smoke      temp  \n",
       "device    0.712108  0.341314  \n",
       "co        0.998192  0.110905  \n",
       "humidity -0.669863 -0.410427  \n",
       "light    -0.212969  0.747485  \n",
       "lpg       0.999916  0.136396  \n",
       "motion    0.000062  0.037649  \n",
       "smoke     1.000000  0.131891  \n",
       "temp      0.131891  1.000000  "
      ]
     },
     "execution_count": 18,
     "metadata": {},
     "output_type": "execute_result"
    },
    {
     "data": {
      "image/png": "[encoded data removed]",
      "text/plain": [
       "<Figure size 432x288 with 2 Axes>"
      ]
     },
     "metadata": {
      "needs_background": "light"
     },
     "output_type": "display_data"
    }
   ],
   "source": [
    "#Finding the Correlation between the Variables\n",
    "sns.heatmap(df.corr())\n",
    "df.corr()"
   ]
  },
  {
   "cell_type": "markdown",
   "metadata": {},
   "source": [
    "# Insights Gained"
   ]
  },
  {
   "cell_type": "markdown",
   "metadata": {},
   "source": [
    "#To be Formatted and Filled"
   ]
  },
  {
   "cell_type": "code",
   "execution_count": 19,
   "metadata": {},
   "outputs": [
    {
     "data": {
      "text/html": [
       "<div>\n",
       "<style scoped>\n",
       "    .dataframe tbody tr th:only-of-type {\n",
       "        vertical-align: middle;\n",
       "    }\n",
       "\n",
       "    .dataframe tbody tr th {\n",
       "        vertical-align: top;\n",
       "    }\n",
       "\n",
       "    .dataframe thead th {\n",
       "        text-align: right;\n",
       "    }\n",
       "</style>\n",
       "<table border=\"1\" class=\"dataframe\">\n",
       "  <thead>\n",
       "    <tr style=\"text-align: right;\">\n",
       "      <th></th>\n",
       "      <th>device</th>\n",
       "      <th>co</th>\n",
       "      <th>humidity</th>\n",
       "      <th>light</th>\n",
       "      <th>lpg</th>\n",
       "      <th>motion</th>\n",
       "      <th>smoke</th>\n",
       "      <th>temp</th>\n",
       "    </tr>\n",
       "  </thead>\n",
       "  <tbody>\n",
       "    <tr>\n",
       "      <th>0</th>\n",
       "      <td>2</td>\n",
       "      <td>0.004956</td>\n",
       "      <td>51.000000</td>\n",
       "      <td>0</td>\n",
       "      <td>0.007651</td>\n",
       "      <td>0</td>\n",
       "      <td>0.020411</td>\n",
       "      <td>22.700000</td>\n",
       "    </tr>\n",
       "    <tr>\n",
       "      <th>1</th>\n",
       "      <td>0</td>\n",
       "      <td>0.002840</td>\n",
       "      <td>76.000000</td>\n",
       "      <td>0</td>\n",
       "      <td>0.005114</td>\n",
       "      <td>0</td>\n",
       "      <td>0.013275</td>\n",
       "      <td>19.700001</td>\n",
       "    </tr>\n",
       "    <tr>\n",
       "      <th>2</th>\n",
       "      <td>2</td>\n",
       "      <td>0.004976</td>\n",
       "      <td>50.900000</td>\n",
       "      <td>0</td>\n",
       "      <td>0.007673</td>\n",
       "      <td>0</td>\n",
       "      <td>0.020475</td>\n",
       "      <td>22.600000</td>\n",
       "    </tr>\n",
       "    <tr>\n",
       "      <th>3</th>\n",
       "      <td>1</td>\n",
       "      <td>0.004403</td>\n",
       "      <td>76.800003</td>\n",
       "      <td>1</td>\n",
       "      <td>0.007023</td>\n",
       "      <td>0</td>\n",
       "      <td>0.018628</td>\n",
       "      <td>27.000000</td>\n",
       "    </tr>\n",
       "    <tr>\n",
       "      <th>4</th>\n",
       "      <td>2</td>\n",
       "      <td>0.004967</td>\n",
       "      <td>50.900000</td>\n",
       "      <td>0</td>\n",
       "      <td>0.007664</td>\n",
       "      <td>0</td>\n",
       "      <td>0.020448</td>\n",
       "      <td>22.600000</td>\n",
       "    </tr>\n",
       "  </tbody>\n",
       "</table>\n",
       "</div>"
      ],
      "text/plain": [
       "   device        co   humidity  light       lpg  motion     smoke       temp\n",
       "0       2  0.004956  51.000000      0  0.007651       0  0.020411  22.700000\n",
       "1       0  0.002840  76.000000      0  0.005114       0  0.013275  19.700001\n",
       "2       2  0.004976  50.900000      0  0.007673       0  0.020475  22.600000\n",
       "3       1  0.004403  76.800003      1  0.007023       0  0.018628  27.000000\n",
       "4       2  0.004967  50.900000      0  0.007664       0  0.020448  22.600000"
      ]
     },
     "execution_count": 19,
     "metadata": {},
     "output_type": "execute_result"
    }
   ],
   "source": [
    "#Encoding the Target Variable\n",
    "df['motion'] = labelencoder.fit_transform(df['motion'])\n",
    "df['light'] = labelencoder.fit_transform(df['light'])\n",
    "\n",
    "#Dropping the Timestamp Values\n",
    "df.drop('ts',axis=1,inplace=True)\n",
    "df.head()"
   ]
  },
  {
   "cell_type": "markdown",
   "metadata": {},
   "source": [
    "# Training ML Classifiers"
   ]
  },
  {
   "cell_type": "code",
   "execution_count": 20,
   "metadata": {},
   "outputs": [
    {
     "name": "stdout",
     "output_type": "stream",
     "text": [
      "Features Shape  (405184, 7)\n"
     ]
    },
    {
     "data": {
      "text/html": [
       "<div>\n",
       "<style scoped>\n",
       "    .dataframe tbody tr th:only-of-type {\n",
       "        vertical-align: middle;\n",
       "    }\n",
       "\n",
       "    .dataframe tbody tr th {\n",
       "        vertical-align: top;\n",
       "    }\n",
       "\n",
       "    .dataframe thead th {\n",
       "        text-align: right;\n",
       "    }\n",
       "</style>\n",
       "<table border=\"1\" class=\"dataframe\">\n",
       "  <thead>\n",
       "    <tr style=\"text-align: right;\">\n",
       "      <th></th>\n",
       "      <th>device</th>\n",
       "      <th>co</th>\n",
       "      <th>humidity</th>\n",
       "      <th>light</th>\n",
       "      <th>lpg</th>\n",
       "      <th>smoke</th>\n",
       "      <th>temp</th>\n",
       "    </tr>\n",
       "  </thead>\n",
       "  <tbody>\n",
       "    <tr>\n",
       "      <th>0</th>\n",
       "      <td>2</td>\n",
       "      <td>0.004956</td>\n",
       "      <td>51.000000</td>\n",
       "      <td>0</td>\n",
       "      <td>0.007651</td>\n",
       "      <td>0.020411</td>\n",
       "      <td>22.700000</td>\n",
       "    </tr>\n",
       "    <tr>\n",
       "      <th>1</th>\n",
       "      <td>0</td>\n",
       "      <td>0.002840</td>\n",
       "      <td>76.000000</td>\n",
       "      <td>0</td>\n",
       "      <td>0.005114</td>\n",
       "      <td>0.013275</td>\n",
       "      <td>19.700001</td>\n",
       "    </tr>\n",
       "    <tr>\n",
       "      <th>2</th>\n",
       "      <td>2</td>\n",
       "      <td>0.004976</td>\n",
       "      <td>50.900000</td>\n",
       "      <td>0</td>\n",
       "      <td>0.007673</td>\n",
       "      <td>0.020475</td>\n",
       "      <td>22.600000</td>\n",
       "    </tr>\n",
       "    <tr>\n",
       "      <th>3</th>\n",
       "      <td>1</td>\n",
       "      <td>0.004403</td>\n",
       "      <td>76.800003</td>\n",
       "      <td>1</td>\n",
       "      <td>0.007023</td>\n",
       "      <td>0.018628</td>\n",
       "      <td>27.000000</td>\n",
       "    </tr>\n",
       "    <tr>\n",
       "      <th>4</th>\n",
       "      <td>2</td>\n",
       "      <td>0.004967</td>\n",
       "      <td>50.900000</td>\n",
       "      <td>0</td>\n",
       "      <td>0.007664</td>\n",
       "      <td>0.020448</td>\n",
       "      <td>22.600000</td>\n",
       "    </tr>\n",
       "  </tbody>\n",
       "</table>\n",
       "</div>"
      ],
      "text/plain": [
       "   device        co   humidity  light       lpg     smoke       temp\n",
       "0       2  0.004956  51.000000      0  0.007651  0.020411  22.700000\n",
       "1       0  0.002840  76.000000      0  0.005114  0.013275  19.700001\n",
       "2       2  0.004976  50.900000      0  0.007673  0.020475  22.600000\n",
       "3       1  0.004403  76.800003      1  0.007023  0.018628  27.000000\n",
       "4       2  0.004967  50.900000      0  0.007664  0.020448  22.600000"
      ]
     },
     "execution_count": 20,
     "metadata": {},
     "output_type": "execute_result"
    }
   ],
   "source": [
    "#Splittng Dataset into featues and target Variables\n",
    "X=df.drop('motion',axis=1)\n",
    "Y=df['motion']\n",
    "print(\"Features Shape \",X.shape)\n",
    "X.head()"
   ]
  },
  {
   "cell_type": "code",
   "execution_count": 21,
   "metadata": {},
   "outputs": [
    {
     "name": "stdout",
     "output_type": "stream",
     "text": [
      "Target Shape  (405184,)\n"
     ]
    },
    {
     "data": {
      "text/plain": [
       "0    0\n",
       "1    0\n",
       "2    0\n",
       "3    0\n",
       "4    0\n",
       "Name: motion, dtype: int64"
      ]
     },
     "execution_count": 21,
     "metadata": {},
     "output_type": "execute_result"
    }
   ],
   "source": [
    "print(\"Target Shape \",Y.shape)\n",
    "Y.head()"
   ]
  },
  {
   "cell_type": "code",
   "execution_count": 23,
   "metadata": {},
   "outputs": [],
   "source": [
    "#Splitting Data into Training and Testing set\n",
    "from sklearn.model_selection import train_test_split\n",
    "X_train, X_test, y_train, y_test = train_test_split(X, Y, test_size=0.05, random_state=0)"
   ]
  },
  {
   "cell_type": "code",
   "execution_count": 24,
   "metadata": {},
   "outputs": [],
   "source": [
    "#Training Logistic Regression Model\n",
    "from sklearn.linear_model import LogisticRegression\n",
    "model = LogisticRegression()\n",
    "model.fit(X_train, y_train)\n",
    "y_pred = model.predict(X_test)"
   ]
  },
  {
   "cell_type": "code",
   "execution_count": 25,
   "metadata": {},
   "outputs": [
    {
     "data": {
      "text/html": [
       "<div>\n",
       "<style scoped>\n",
       "    .dataframe tbody tr th:only-of-type {\n",
       "        vertical-align: middle;\n",
       "    }\n",
       "\n",
       "    .dataframe tbody tr th {\n",
       "        vertical-align: top;\n",
       "    }\n",
       "\n",
       "    .dataframe thead th {\n",
       "        text-align: right;\n",
       "    }\n",
       "</style>\n",
       "<table border=\"1\" class=\"dataframe\">\n",
       "  <thead>\n",
       "    <tr style=\"text-align: right;\">\n",
       "      <th>Predicted</th>\n",
       "      <th>0</th>\n",
       "      <th>All</th>\n",
       "    </tr>\n",
       "    <tr>\n",
       "      <th>True</th>\n",
       "      <th></th>\n",
       "      <th></th>\n",
       "    </tr>\n",
       "  </thead>\n",
       "  <tbody>\n",
       "    <tr>\n",
       "      <th>0</th>\n",
       "      <td>20245</td>\n",
       "      <td>20245</td>\n",
       "    </tr>\n",
       "    <tr>\n",
       "      <th>1</th>\n",
       "      <td>15</td>\n",
       "      <td>15</td>\n",
       "    </tr>\n",
       "    <tr>\n",
       "      <th>All</th>\n",
       "      <td>20260</td>\n",
       "      <td>20260</td>\n",
       "    </tr>\n",
       "  </tbody>\n",
       "</table>\n",
       "</div>"
      ],
      "text/plain": [
       "Predicted      0    All\n",
       "True                   \n",
       "0          20245  20245\n",
       "1             15     15\n",
       "All        20260  20260"
      ]
     },
     "execution_count": 25,
     "metadata": {},
     "output_type": "execute_result"
    }
   ],
   "source": [
    "from sklearn.metrics import confusion_matrix,classification_report,accuracy_score\n",
    "CM = pd.crosstab(y_test,y_pred, rownames=['True'], colnames=['Predicted'], margins=True)\n",
    "CM"
   ]
  },
  {
   "cell_type": "code",
   "execution_count": 26,
   "metadata": {},
   "outputs": [
    {
     "name": "stdout",
     "output_type": "stream",
     "text": [
      "Accuracy Score of Logistic Regression:  0.9992596248766041\n"
     ]
    }
   ],
   "source": [
    "print(\"Accuracy Score of Logistic Regression: \",accuracy_score(y_test,y_predict))"
   ]
  },
  {
   "cell_type": "code",
   "execution_count": 27,
   "metadata": {},
   "outputs": [
    {
     "name": "stdout",
     "output_type": "stream",
     "text": [
      "Classification Report: Logistic Regression\n",
      "              precision    recall  f1-score   support\n",
      "\n",
      "           0       1.00      1.00      1.00     20245\n",
      "           1       0.00      0.00      0.00        15\n",
      "\n",
      "    accuracy                           1.00     20260\n",
      "   macro avg       0.50      0.50      0.50     20260\n",
      "weighted avg       1.00      1.00      1.00     20260\n",
      "\n"
     ]
    },
    {
     "name": "stderr",
     "output_type": "stream",
     "text": [
      "S:\\Anaconda Navigator\\lib\\site-packages\\sklearn\\metrics\\_classification.py:1272: UndefinedMetricWarning: Precision and F-score are ill-defined and being set to 0.0 in labels with no predicted samples. Use `zero_division` parameter to control this behavior.\n",
      "  _warn_prf(average, modifier, msg_start, len(result))\n"
     ]
    }
   ],
   "source": [
    "print(\"Classification Report: Logistic Regression\")\n",
    "cr = classification_report(y_test, y_pred)\n",
    "print(cr)"
   ]
  },
  {
   "cell_type": "code",
   "execution_count": 28,
   "metadata": {},
   "outputs": [],
   "source": [
    "#Training Naive Bayes Classifier\n",
    "from sklearn.naive_bayes import GaussianNB\n",
    "model=GaussianNB()\n",
    "model.fit(X_train,y_train)\n",
    "y_pred=model.predict(X_test)"
   ]
  },
  {
   "cell_type": "code",
   "execution_count": 29,
   "metadata": {},
   "outputs": [
    {
     "data": {
      "text/html": [
       "<div>\n",
       "<style scoped>\n",
       "    .dataframe tbody tr th:only-of-type {\n",
       "        vertical-align: middle;\n",
       "    }\n",
       "\n",
       "    .dataframe tbody tr th {\n",
       "        vertical-align: top;\n",
       "    }\n",
       "\n",
       "    .dataframe thead th {\n",
       "        text-align: right;\n",
       "    }\n",
       "</style>\n",
       "<table border=\"1\" class=\"dataframe\">\n",
       "  <thead>\n",
       "    <tr style=\"text-align: right;\">\n",
       "      <th>Predicted</th>\n",
       "      <th>0</th>\n",
       "      <th>All</th>\n",
       "    </tr>\n",
       "    <tr>\n",
       "      <th>True</th>\n",
       "      <th></th>\n",
       "      <th></th>\n",
       "    </tr>\n",
       "  </thead>\n",
       "  <tbody>\n",
       "    <tr>\n",
       "      <th>0</th>\n",
       "      <td>20245</td>\n",
       "      <td>20245</td>\n",
       "    </tr>\n",
       "    <tr>\n",
       "      <th>1</th>\n",
       "      <td>15</td>\n",
       "      <td>15</td>\n",
       "    </tr>\n",
       "    <tr>\n",
       "      <th>All</th>\n",
       "      <td>20260</td>\n",
       "      <td>20260</td>\n",
       "    </tr>\n",
       "  </tbody>\n",
       "</table>\n",
       "</div>"
      ],
      "text/plain": [
       "Predicted      0    All\n",
       "True                   \n",
       "0          20245  20245\n",
       "1             15     15\n",
       "All        20260  20260"
      ]
     },
     "execution_count": 29,
     "metadata": {},
     "output_type": "execute_result"
    }
   ],
   "source": [
    "CM = pd.crosstab(y_test,y_pred, rownames=['True'], colnames=['Predicted'], margins=True)\n",
    "CM"
   ]
  },
  {
   "cell_type": "code",
   "execution_count": 30,
   "metadata": {},
   "outputs": [
    {
     "name": "stdout",
     "output_type": "stream",
     "text": [
      "Accuracy Score of Naive Bayes Classifier:  0.9992596248766041\n"
     ]
    }
   ],
   "source": [
    "print(\"Accuracy Score of Naive Bayes Classifier: \",accuracy_score(y_test,y_pred))"
   ]
  },
  {
   "cell_type": "code",
   "execution_count": 31,
   "metadata": {},
   "outputs": [
    {
     "name": "stdout",
     "output_type": "stream",
     "text": [
      "Classification Report:\n",
      "              precision    recall  f1-score   support\n",
      "\n",
      "           0       1.00      1.00      1.00     20245\n",
      "           1       0.00      0.00      0.00        15\n",
      "\n",
      "    accuracy                           1.00     20260\n",
      "   macro avg       0.50      0.50      0.50     20260\n",
      "weighted avg       1.00      1.00      1.00     20260\n",
      "\n"
     ]
    },
    {
     "name": "stderr",
     "output_type": "stream",
     "text": [
      "S:\\Anaconda Navigator\\lib\\site-packages\\sklearn\\metrics\\_classification.py:1272: UndefinedMetricWarning: Precision and F-score are ill-defined and being set to 0.0 in labels with no predicted samples. Use `zero_division` parameter to control this behavior.\n",
      "  _warn_prf(average, modifier, msg_start, len(result))\n"
     ]
    }
   ],
   "source": [
    "print(\"Classification Report:\")\n",
    "cr = classification_report(y_test, y_pred)\n",
    "print(cr)"
   ]
  },
  {
   "cell_type": "code",
   "execution_count": 68,
   "metadata": {},
   "outputs": [],
   "source": [
    "from sklearn.tree import DecisionTreeClassifier\n",
    "model=DecisionTreeClassifier(criterion='gini',max_depth=5)\n",
    "model.fit(X_train,y_train)\n",
    "y_pred=model.predict(X_test)"
   ]
  },
  {
   "cell_type": "code",
   "execution_count": 69,
   "metadata": {},
   "outputs": [
    {
     "data": {
      "text/html": [
       "<div>\n",
       "<style scoped>\n",
       "    .dataframe tbody tr th:only-of-type {\n",
       "        vertical-align: middle;\n",
       "    }\n",
       "\n",
       "    .dataframe tbody tr th {\n",
       "        vertical-align: top;\n",
       "    }\n",
       "\n",
       "    .dataframe thead th {\n",
       "        text-align: right;\n",
       "    }\n",
       "</style>\n",
       "<table border=\"1\" class=\"dataframe\">\n",
       "  <thead>\n",
       "    <tr style=\"text-align: right;\">\n",
       "      <th>Predicted</th>\n",
       "      <th>0</th>\n",
       "      <th>All</th>\n",
       "    </tr>\n",
       "    <tr>\n",
       "      <th>True</th>\n",
       "      <th></th>\n",
       "      <th></th>\n",
       "    </tr>\n",
       "  </thead>\n",
       "  <tbody>\n",
       "    <tr>\n",
       "      <th>0</th>\n",
       "      <td>20245</td>\n",
       "      <td>20245</td>\n",
       "    </tr>\n",
       "    <tr>\n",
       "      <th>1</th>\n",
       "      <td>15</td>\n",
       "      <td>15</td>\n",
       "    </tr>\n",
       "    <tr>\n",
       "      <th>All</th>\n",
       "      <td>20260</td>\n",
       "      <td>20260</td>\n",
       "    </tr>\n",
       "  </tbody>\n",
       "</table>\n",
       "</div>"
      ],
      "text/plain": [
       "Predicted      0    All\n",
       "True                   \n",
       "0          20245  20245\n",
       "1             15     15\n",
       "All        20260  20260"
      ]
     },
     "execution_count": 69,
     "metadata": {},
     "output_type": "execute_result"
    }
   ],
   "source": [
    "CM = pd.crosstab(y_test,y_pred, rownames=['True'], colnames=['Predicted'], margins=True)\n",
    "CM"
   ]
  },
  {
   "cell_type": "code",
   "execution_count": 70,
   "metadata": {},
   "outputs": [
    {
     "name": "stdout",
     "output_type": "stream",
     "text": [
      "Classification Report:\n",
      "              precision    recall  f1-score   support\n",
      "\n",
      "           0       1.00      1.00      1.00     20245\n",
      "           1       0.00      0.00      0.00        15\n",
      "\n",
      "    accuracy                           1.00     20260\n",
      "   macro avg       0.50      0.50      0.50     20260\n",
      "weighted avg       1.00      1.00      1.00     20260\n",
      "\n"
     ]
    },
    {
     "name": "stderr",
     "output_type": "stream",
     "text": [
      "S:\\Anaconda Navigator\\lib\\site-packages\\sklearn\\metrics\\_classification.py:1272: UndefinedMetricWarning: Precision and F-score are ill-defined and being set to 0.0 in labels with no predicted samples. Use `zero_division` parameter to control this behavior.\n",
      "  _warn_prf(average, modifier, msg_start, len(result))\n"
     ]
    }
   ],
   "source": [
    "print(\"Classification Report:\")\n",
    "cr = classification_report(y_test, y_pred)\n",
    "print(cr)"
   ]
  },
  {
   "cell_type": "code",
   "execution_count": 71,
   "metadata": {},
   "outputs": [],
   "source": [
    "from sklearn.ensemble import AdaBoostClassifier\n",
    "model=AdaBoostClassifier()\n",
    "model.fit(X_train,y_train)\n",
    "y_pred=model.predict(X_test)"
   ]
  },
  {
   "cell_type": "code",
   "execution_count": 72,
   "metadata": {},
   "outputs": [
    {
     "data": {
      "text/html": [
       "<div>\n",
       "<style scoped>\n",
       "    .dataframe tbody tr th:only-of-type {\n",
       "        vertical-align: middle;\n",
       "    }\n",
       "\n",
       "    .dataframe tbody tr th {\n",
       "        vertical-align: top;\n",
       "    }\n",
       "\n",
       "    .dataframe thead th {\n",
       "        text-align: right;\n",
       "    }\n",
       "</style>\n",
       "<table border=\"1\" class=\"dataframe\">\n",
       "  <thead>\n",
       "    <tr style=\"text-align: right;\">\n",
       "      <th>Predicted</th>\n",
       "      <th>0</th>\n",
       "      <th>All</th>\n",
       "    </tr>\n",
       "    <tr>\n",
       "      <th>True</th>\n",
       "      <th></th>\n",
       "      <th></th>\n",
       "    </tr>\n",
       "  </thead>\n",
       "  <tbody>\n",
       "    <tr>\n",
       "      <th>0</th>\n",
       "      <td>20245</td>\n",
       "      <td>20245</td>\n",
       "    </tr>\n",
       "    <tr>\n",
       "      <th>1</th>\n",
       "      <td>15</td>\n",
       "      <td>15</td>\n",
       "    </tr>\n",
       "    <tr>\n",
       "      <th>All</th>\n",
       "      <td>20260</td>\n",
       "      <td>20260</td>\n",
       "    </tr>\n",
       "  </tbody>\n",
       "</table>\n",
       "</div>"
      ],
      "text/plain": [
       "Predicted      0    All\n",
       "True                   \n",
       "0          20245  20245\n",
       "1             15     15\n",
       "All        20260  20260"
      ]
     },
     "execution_count": 72,
     "metadata": {},
     "output_type": "execute_result"
    }
   ],
   "source": [
    "CM = pd.crosstab(y_test,y_pred, rownames=['True'], colnames=['Predicted'], margins=True)\n",
    "CM"
   ]
  },
  {
   "cell_type": "code",
   "execution_count": 73,
   "metadata": {},
   "outputs": [
    {
     "name": "stdout",
     "output_type": "stream",
     "text": [
      "Classification Report:\n",
      "              precision    recall  f1-score   support\n",
      "\n",
      "           0       1.00      1.00      1.00     20245\n",
      "           1       0.00      0.00      0.00        15\n",
      "\n",
      "    accuracy                           1.00     20260\n",
      "   macro avg       0.50      0.50      0.50     20260\n",
      "weighted avg       1.00      1.00      1.00     20260\n",
      "\n"
     ]
    },
    {
     "name": "stderr",
     "output_type": "stream",
     "text": [
      "S:\\Anaconda Navigator\\lib\\site-packages\\sklearn\\metrics\\_classification.py:1272: UndefinedMetricWarning: Precision and F-score are ill-defined and being set to 0.0 in labels with no predicted samples. Use `zero_division` parameter to control this behavior.\n",
      "  _warn_prf(average, modifier, msg_start, len(result))\n"
     ]
    }
   ],
   "source": [
    "print(\"Classification Report:\")\n",
    "cr = classification_report(y_test, y_pred)\n",
    "print(cr)"
   ]
  },
  {
   "cell_type": "code",
   "execution_count": 62,
   "metadata": {},
   "outputs": [],
   "source": [
    "from xgboost import XGBClassifier\n",
    "model=XGBClassifier()\n",
    "model.fit(X_train,y_train)\n",
    "y_pred=model.predict(X_test)"
   ]
  },
  {
   "cell_type": "code",
   "execution_count": 63,
   "metadata": {},
   "outputs": [
    {
     "data": {
      "text/html": [
       "<div>\n",
       "<style scoped>\n",
       "    .dataframe tbody tr th:only-of-type {\n",
       "        vertical-align: middle;\n",
       "    }\n",
       "\n",
       "    .dataframe tbody tr th {\n",
       "        vertical-align: top;\n",
       "    }\n",
       "\n",
       "    .dataframe thead th {\n",
       "        text-align: right;\n",
       "    }\n",
       "</style>\n",
       "<table border=\"1\" class=\"dataframe\">\n",
       "  <thead>\n",
       "    <tr style=\"text-align: right;\">\n",
       "      <th>Predicted</th>\n",
       "      <th>0</th>\n",
       "      <th>All</th>\n",
       "    </tr>\n",
       "    <tr>\n",
       "      <th>True</th>\n",
       "      <th></th>\n",
       "      <th></th>\n",
       "    </tr>\n",
       "  </thead>\n",
       "  <tbody>\n",
       "    <tr>\n",
       "      <th>0</th>\n",
       "      <td>20245</td>\n",
       "      <td>20245</td>\n",
       "    </tr>\n",
       "    <tr>\n",
       "      <th>1</th>\n",
       "      <td>15</td>\n",
       "      <td>15</td>\n",
       "    </tr>\n",
       "    <tr>\n",
       "      <th>All</th>\n",
       "      <td>20260</td>\n",
       "      <td>20260</td>\n",
       "    </tr>\n",
       "  </tbody>\n",
       "</table>\n",
       "</div>"
      ],
      "text/plain": [
       "Predicted      0    All\n",
       "True                   \n",
       "0          20245  20245\n",
       "1             15     15\n",
       "All        20260  20260"
      ]
     },
     "execution_count": 63,
     "metadata": {},
     "output_type": "execute_result"
    }
   ],
   "source": [
    "CM = pd.crosstab(y_test,y_pred, rownames=['True'], colnames=['Predicted'], margins=True)\n",
    "CM"
   ]
  },
  {
   "cell_type": "code",
   "execution_count": 64,
   "metadata": {},
   "outputs": [
    {
     "name": "stdout",
     "output_type": "stream",
     "text": [
      "Classification Report:\n",
      "              precision    recall  f1-score   support\n",
      "\n",
      "           0       1.00      1.00      1.00     20245\n",
      "           1       0.00      0.00      0.00        15\n",
      "\n",
      "    accuracy                           1.00     20260\n",
      "   macro avg       0.50      0.50      0.50     20260\n",
      "weighted avg       1.00      1.00      1.00     20260\n",
      "\n"
     ]
    },
    {
     "name": "stderr",
     "output_type": "stream",
     "text": [
      "S:\\Anaconda Navigator\\lib\\site-packages\\sklearn\\metrics\\_classification.py:1272: UndefinedMetricWarning: Precision and F-score are ill-defined and being set to 0.0 in labels with no predicted samples. Use `zero_division` parameter to control this behavior.\n",
      "  _warn_prf(average, modifier, msg_start, len(result))\n"
     ]
    }
   ],
   "source": [
    "print(\"Classification Report:\")\n",
    "cr = classification_report(y_test, y_pred)\n",
    "print(cr)"
   ]
  },
  {
   "cell_type": "markdown",
   "metadata": {},
   "source": [
    "# Inferences Gained "
   ]
  },
  {
   "cell_type": "markdown",
   "metadata": {},
   "source": [
    "<br>\n",
    "<font size=3 color=darkblue>\n",
    "<b>Looking at the above results, we come to know the following details:</b><br>\n",
    "    <ul>\n",
    "         <li>All the 3 ML Classifiers perfrom at equal standards with the dataset<br>\n",
    "         <li>Though the Accuracies obtained by the classifiers is pretty high(99.92 %), all the classifiers failed to detect instances where motion is present. <br>\n",
    "         <li>The low precision and recall scores for the minority class supports this fact(0.0 for both precision and recall)<br>\n",
    "         <li>The results obtained substatiates the fact that there arent enough instances of the minority class i,e motion detected to train the model with in order to get better results.<br>\n",
    "         <li>Hence we go for applying an oversampling technique SMOTE to the same and evaluvate it against the same ML Classifiers and compare its results<br>\n",
    "     </ul>\n",
    "</font>\n",
    "<br>"
   ]
  },
  {
   "cell_type": "code",
   "execution_count": 33,
   "metadata": {},
   "outputs": [
    {
     "name": "stdout",
     "output_type": "stream",
     "text": [
      "After OverSampling, the shape of train_X: (538239, 7)\n",
      "After OverSampling, the shape of train_y: (538239,) \n",
      "\n",
      "After OverSampling, counts of label '0': 384457\n",
      "After OverSampling, counts of label '1': 153782\n"
     ]
    }
   ],
   "source": [
    "from imblearn.over_sampling import SMOTENC\n",
    "sm = SMOTENC(categorical_features=[0,3],sampling_strategy=0.4,k_neighbors =5) \n",
    "X_train_res, y_train_res = sm.fit_sample(X_train, y_train)\n",
    "print('After OverSampling, the shape of train_X: {}'.format(X_train_res.shape)) \n",
    "print('After OverSampling, the shape of train_y: {} \\n'.format(y_train_res.shape))\n",
    "\n",
    "print(\"After OverSampling, counts of label '0': {}\".format(sum(y_train_res == 0)))\n",
    "print(\"After OverSampling, counts of label '1': {}\".format(sum(y_train_res == 1)))"
   ]
  },
  {
   "cell_type": "code",
   "execution_count": 34,
   "metadata": {},
   "outputs": [],
   "source": [
    "model = LogisticRegression()\n",
    "model.fit(X_train_res, y_train_res)\n",
    "y_predict = model.predict(X_test)"
   ]
  },
  {
   "cell_type": "code",
   "execution_count": 35,
   "metadata": {},
   "outputs": [
    {
     "data": {
      "text/html": [
       "<div>\n",
       "<style scoped>\n",
       "    .dataframe tbody tr th:only-of-type {\n",
       "        vertical-align: middle;\n",
       "    }\n",
       "\n",
       "    .dataframe tbody tr th {\n",
       "        vertical-align: top;\n",
       "    }\n",
       "\n",
       "    .dataframe thead th {\n",
       "        text-align: right;\n",
       "    }\n",
       "</style>\n",
       "<table border=\"1\" class=\"dataframe\">\n",
       "  <thead>\n",
       "    <tr style=\"text-align: right;\">\n",
       "      <th>Predicted</th>\n",
       "      <th>0</th>\n",
       "      <th>1</th>\n",
       "      <th>All</th>\n",
       "    </tr>\n",
       "    <tr>\n",
       "      <th>True</th>\n",
       "      <th></th>\n",
       "      <th></th>\n",
       "      <th></th>\n",
       "    </tr>\n",
       "  </thead>\n",
       "  <tbody>\n",
       "    <tr>\n",
       "      <th>0</th>\n",
       "      <td>17970</td>\n",
       "      <td>2275</td>\n",
       "      <td>20245</td>\n",
       "    </tr>\n",
       "    <tr>\n",
       "      <th>1</th>\n",
       "      <td>6</td>\n",
       "      <td>9</td>\n",
       "      <td>15</td>\n",
       "    </tr>\n",
       "    <tr>\n",
       "      <th>All</th>\n",
       "      <td>17976</td>\n",
       "      <td>2284</td>\n",
       "      <td>20260</td>\n",
       "    </tr>\n",
       "  </tbody>\n",
       "</table>\n",
       "</div>"
      ],
      "text/plain": [
       "Predicted      0     1    All\n",
       "True                         \n",
       "0          17970  2275  20245\n",
       "1              6     9     15\n",
       "All        17976  2284  20260"
      ]
     },
     "execution_count": 35,
     "metadata": {},
     "output_type": "execute_result"
    }
   ],
   "source": [
    "CM = pd.crosstab(y_test,y_predict, rownames=['True'], colnames=['Predicted'], margins=True)\n",
    "CM"
   ]
  },
  {
   "cell_type": "code",
   "execution_count": 36,
   "metadata": {
    "scrolled": true
   },
   "outputs": [
    {
     "name": "stdout",
     "output_type": "stream",
     "text": [
      "              precision    recall  f1-score   support\n",
      "\n",
      "           0       1.00      0.89      0.94     20245\n",
      "           1       0.00      0.60      0.01        15\n",
      "\n",
      "    accuracy                           0.89     20260\n",
      "   macro avg       0.50      0.74      0.47     20260\n",
      "weighted avg       1.00      0.89      0.94     20260\n",
      "\n"
     ]
    }
   ],
   "source": [
    "cr = classification_report(y_test, y_predict)\n",
    "print(cr)"
   ]
  },
  {
   "cell_type": "code",
   "execution_count": 48,
   "metadata": {},
   "outputs": [],
   "source": [
    "model=GaussianNB()\n",
    "model.fit(X_train_res,y_train_res)\n",
    "y_pred=model.predict(X_test)"
   ]
  },
  {
   "cell_type": "code",
   "execution_count": 49,
   "metadata": {},
   "outputs": [
    {
     "data": {
      "text/html": [
       "<div>\n",
       "<style scoped>\n",
       "    .dataframe tbody tr th:only-of-type {\n",
       "        vertical-align: middle;\n",
       "    }\n",
       "\n",
       "    .dataframe tbody tr th {\n",
       "        vertical-align: top;\n",
       "    }\n",
       "\n",
       "    .dataframe thead th {\n",
       "        text-align: right;\n",
       "    }\n",
       "</style>\n",
       "<table border=\"1\" class=\"dataframe\">\n",
       "  <thead>\n",
       "    <tr style=\"text-align: right;\">\n",
       "      <th>Predicted</th>\n",
       "      <th>0</th>\n",
       "      <th>1</th>\n",
       "      <th>All</th>\n",
       "    </tr>\n",
       "    <tr>\n",
       "      <th>True</th>\n",
       "      <th></th>\n",
       "      <th></th>\n",
       "      <th></th>\n",
       "    </tr>\n",
       "  </thead>\n",
       "  <tbody>\n",
       "    <tr>\n",
       "      <th>0</th>\n",
       "      <td>15362</td>\n",
       "      <td>4883</td>\n",
       "      <td>20245</td>\n",
       "    </tr>\n",
       "    <tr>\n",
       "      <th>1</th>\n",
       "      <td>5</td>\n",
       "      <td>10</td>\n",
       "      <td>15</td>\n",
       "    </tr>\n",
       "    <tr>\n",
       "      <th>All</th>\n",
       "      <td>15367</td>\n",
       "      <td>4893</td>\n",
       "      <td>20260</td>\n",
       "    </tr>\n",
       "  </tbody>\n",
       "</table>\n",
       "</div>"
      ],
      "text/plain": [
       "Predicted      0     1    All\n",
       "True                         \n",
       "0          15362  4883  20245\n",
       "1              5    10     15\n",
       "All        15367  4893  20260"
      ]
     },
     "execution_count": 49,
     "metadata": {},
     "output_type": "execute_result"
    }
   ],
   "source": [
    "CM = pd.crosstab(y_test,y_pred, rownames=['True'], colnames=['Predicted'], margins=True)\n",
    "CM"
   ]
  },
  {
   "cell_type": "code",
   "execution_count": 51,
   "metadata": {},
   "outputs": [
    {
     "name": "stdout",
     "output_type": "stream",
     "text": [
      "Classification Report: Naive Bayes Classifier\n",
      "              precision    recall  f1-score   support\n",
      "\n",
      "           0       1.00      0.76      0.86     20245\n",
      "           1       0.00      0.67      0.00        15\n",
      "\n",
      "    accuracy                           0.76     20260\n",
      "   macro avg       0.50      0.71      0.43     20260\n",
      "weighted avg       1.00      0.76      0.86     20260\n",
      "\n"
     ]
    }
   ],
   "source": [
    "print(\"Classification Report: Naive Bayes Classifier\")\n",
    "cr = classification_report(y_test, y_pred)\n",
    "print(cr)"
   ]
  },
  {
   "cell_type": "code",
   "execution_count": 74,
   "metadata": {},
   "outputs": [],
   "source": [
    "model=DecisionTreeClassifier(criterion='gini',max_depth=5)\n",
    "model.fit(X_train_res,y_train_res)\n",
    "y_pred=model.predict(X_test)"
   ]
  },
  {
   "cell_type": "code",
   "execution_count": 75,
   "metadata": {},
   "outputs": [
    {
     "data": {
      "text/html": [
       "<div>\n",
       "<style scoped>\n",
       "    .dataframe tbody tr th:only-of-type {\n",
       "        vertical-align: middle;\n",
       "    }\n",
       "\n",
       "    .dataframe tbody tr th {\n",
       "        vertical-align: top;\n",
       "    }\n",
       "\n",
       "    .dataframe thead th {\n",
       "        text-align: right;\n",
       "    }\n",
       "</style>\n",
       "<table border=\"1\" class=\"dataframe\">\n",
       "  <thead>\n",
       "    <tr style=\"text-align: right;\">\n",
       "      <th>Predicted</th>\n",
       "      <th>0</th>\n",
       "      <th>1</th>\n",
       "      <th>All</th>\n",
       "    </tr>\n",
       "    <tr>\n",
       "      <th>True</th>\n",
       "      <th></th>\n",
       "      <th></th>\n",
       "      <th></th>\n",
       "    </tr>\n",
       "  </thead>\n",
       "  <tbody>\n",
       "    <tr>\n",
       "      <th>0</th>\n",
       "      <td>18323</td>\n",
       "      <td>1922</td>\n",
       "      <td>20245</td>\n",
       "    </tr>\n",
       "    <tr>\n",
       "      <th>1</th>\n",
       "      <td>6</td>\n",
       "      <td>9</td>\n",
       "      <td>15</td>\n",
       "    </tr>\n",
       "    <tr>\n",
       "      <th>All</th>\n",
       "      <td>18329</td>\n",
       "      <td>1931</td>\n",
       "      <td>20260</td>\n",
       "    </tr>\n",
       "  </tbody>\n",
       "</table>\n",
       "</div>"
      ],
      "text/plain": [
       "Predicted      0     1    All\n",
       "True                         \n",
       "0          18323  1922  20245\n",
       "1              6     9     15\n",
       "All        18329  1931  20260"
      ]
     },
     "execution_count": 75,
     "metadata": {},
     "output_type": "execute_result"
    }
   ],
   "source": [
    "CM = pd.crosstab(y_test,y_pred, rownames=['True'], colnames=['Predicted'], margins=True)\n",
    "CM"
   ]
  },
  {
   "cell_type": "code",
   "execution_count": 76,
   "metadata": {},
   "outputs": [
    {
     "name": "stdout",
     "output_type": "stream",
     "text": [
      "Classification Report: Naive Bayes Classifier\n",
      "              precision    recall  f1-score   support\n",
      "\n",
      "           0       1.00      0.91      0.95     20245\n",
      "           1       0.00      0.60      0.01        15\n",
      "\n",
      "    accuracy                           0.90     20260\n",
      "   macro avg       0.50      0.75      0.48     20260\n",
      "weighted avg       1.00      0.90      0.95     20260\n",
      "\n"
     ]
    }
   ],
   "source": [
    "print(\"Classification Report: Descition Tree Classifier\")\n",
    "cr = classification_report(y_test, y_pred)\n",
    "print(cr)"
   ]
  },
  {
   "cell_type": "code",
   "execution_count": 58,
   "metadata": {},
   "outputs": [],
   "source": [
    "model=AdaBoostClassifier()\n",
    "model.fit(X_train_res,y_train_res)\n",
    "y_pred=model.predict(X_test)"
   ]
  },
  {
   "cell_type": "code",
   "execution_count": 59,
   "metadata": {},
   "outputs": [
    {
     "data": {
      "text/html": [
       "<div>\n",
       "<style scoped>\n",
       "    .dataframe tbody tr th:only-of-type {\n",
       "        vertical-align: middle;\n",
       "    }\n",
       "\n",
       "    .dataframe tbody tr th {\n",
       "        vertical-align: top;\n",
       "    }\n",
       "\n",
       "    .dataframe thead th {\n",
       "        text-align: right;\n",
       "    }\n",
       "</style>\n",
       "<table border=\"1\" class=\"dataframe\">\n",
       "  <thead>\n",
       "    <tr style=\"text-align: right;\">\n",
       "      <th>Predicted</th>\n",
       "      <th>0</th>\n",
       "      <th>1</th>\n",
       "      <th>All</th>\n",
       "    </tr>\n",
       "    <tr>\n",
       "      <th>True</th>\n",
       "      <th></th>\n",
       "      <th></th>\n",
       "      <th></th>\n",
       "    </tr>\n",
       "  </thead>\n",
       "  <tbody>\n",
       "    <tr>\n",
       "      <th>0</th>\n",
       "      <td>18118</td>\n",
       "      <td>2127</td>\n",
       "      <td>20245</td>\n",
       "    </tr>\n",
       "    <tr>\n",
       "      <th>1</th>\n",
       "      <td>8</td>\n",
       "      <td>7</td>\n",
       "      <td>15</td>\n",
       "    </tr>\n",
       "    <tr>\n",
       "      <th>All</th>\n",
       "      <td>18126</td>\n",
       "      <td>2134</td>\n",
       "      <td>20260</td>\n",
       "    </tr>\n",
       "  </tbody>\n",
       "</table>\n",
       "</div>"
      ],
      "text/plain": [
       "Predicted      0     1    All\n",
       "True                         \n",
       "0          18118  2127  20245\n",
       "1              8     7     15\n",
       "All        18126  2134  20260"
      ]
     },
     "execution_count": 59,
     "metadata": {},
     "output_type": "execute_result"
    }
   ],
   "source": [
    "CM = pd.crosstab(y_test,y_pred, rownames=['True'], colnames=['Predicted'], margins=True)\n",
    "CM"
   ]
  },
  {
   "cell_type": "code",
   "execution_count": 61,
   "metadata": {},
   "outputs": [
    {
     "name": "stdout",
     "output_type": "stream",
     "text": [
      "Classification Report: AdaBoost\n",
      "              precision    recall  f1-score   support\n",
      "\n",
      "           0       1.00      0.89      0.94     20245\n",
      "           1       0.00      0.47      0.01        15\n",
      "\n",
      "    accuracy                           0.89     20260\n",
      "   macro avg       0.50      0.68      0.48     20260\n",
      "weighted avg       1.00      0.89      0.94     20260\n",
      "\n"
     ]
    }
   ],
   "source": [
    "print(\"Classification Report: AdaBoost\")\n",
    "cr = classification_report(y_test, y_pred)\n",
    "print(cr)"
   ]
  },
  {
   "cell_type": "code",
   "execution_count": 65,
   "metadata": {},
   "outputs": [],
   "source": [
    "model=XGBClassifier()\n",
    "model.fit(X_train_res,y_train_res)\n",
    "y_pred=model.predict(X_test)"
   ]
  },
  {
   "cell_type": "code",
   "execution_count": 66,
   "metadata": {},
   "outputs": [
    {
     "data": {
      "text/html": [
       "<div>\n",
       "<style scoped>\n",
       "    .dataframe tbody tr th:only-of-type {\n",
       "        vertical-align: middle;\n",
       "    }\n",
       "\n",
       "    .dataframe tbody tr th {\n",
       "        vertical-align: top;\n",
       "    }\n",
       "\n",
       "    .dataframe thead th {\n",
       "        text-align: right;\n",
       "    }\n",
       "</style>\n",
       "<table border=\"1\" class=\"dataframe\">\n",
       "  <thead>\n",
       "    <tr style=\"text-align: right;\">\n",
       "      <th>Predicted</th>\n",
       "      <th>0</th>\n",
       "      <th>1</th>\n",
       "      <th>All</th>\n",
       "    </tr>\n",
       "    <tr>\n",
       "      <th>True</th>\n",
       "      <th></th>\n",
       "      <th></th>\n",
       "      <th></th>\n",
       "    </tr>\n",
       "  </thead>\n",
       "  <tbody>\n",
       "    <tr>\n",
       "      <th>0</th>\n",
       "      <td>18721</td>\n",
       "      <td>1524</td>\n",
       "      <td>20245</td>\n",
       "    </tr>\n",
       "    <tr>\n",
       "      <th>1</th>\n",
       "      <td>9</td>\n",
       "      <td>6</td>\n",
       "      <td>15</td>\n",
       "    </tr>\n",
       "    <tr>\n",
       "      <th>All</th>\n",
       "      <td>18730</td>\n",
       "      <td>1530</td>\n",
       "      <td>20260</td>\n",
       "    </tr>\n",
       "  </tbody>\n",
       "</table>\n",
       "</div>"
      ],
      "text/plain": [
       "Predicted      0     1    All\n",
       "True                         \n",
       "0          18721  1524  20245\n",
       "1              9     6     15\n",
       "All        18730  1530  20260"
      ]
     },
     "execution_count": 66,
     "metadata": {},
     "output_type": "execute_result"
    }
   ],
   "source": [
    "CM = pd.crosstab(y_test,y_pred, rownames=['True'], colnames=['Predicted'], margins=True)\n",
    "CM"
   ]
  },
  {
   "cell_type": "code",
   "execution_count": 67,
   "metadata": {},
   "outputs": [
    {
     "name": "stdout",
     "output_type": "stream",
     "text": [
      "Classification Report: AdaBoost\n",
      "              precision    recall  f1-score   support\n",
      "\n",
      "           0       1.00      0.92      0.96     20245\n",
      "           1       0.00      0.40      0.01        15\n",
      "\n",
      "    accuracy                           0.92     20260\n",
      "   macro avg       0.50      0.66      0.48     20260\n",
      "weighted avg       1.00      0.92      0.96     20260\n",
      "\n"
     ]
    }
   ],
   "source": [
    "print(\"Classification Report: XGBoost\")\n",
    "cr = classification_report(y_test, y_pred)\n",
    "print(cr)"
   ]
  },
  {
   "cell_type": "code",
   "execution_count": null,
   "metadata": {},
   "outputs": [],
   "source": []
  }
 ],
 "metadata": {
  "kernelspec": {
   "display_name": "Python 3",
   "language": "python",
   "name": "python3"
  },
  "language_info": {
   "codemirror_mode": {
    "name": "ipython",
    "version": 3
   },
   "file_extension": ".py",
   "mimetype": "text/x-python",
   "name": "python",
   "nbconvert_exporter": "python",
   "pygments_lexer": "ipython3",
   "version": "3.7.6"
  }
 },
 "nbformat": 4,
 "nbformat_minor": 4
}
